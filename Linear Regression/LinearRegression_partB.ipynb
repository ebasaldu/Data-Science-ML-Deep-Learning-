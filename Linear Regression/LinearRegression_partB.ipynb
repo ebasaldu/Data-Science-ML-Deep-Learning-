{
 "cells": [
  {
   "cell_type": "code",
   "execution_count": 1,
   "metadata": {},
   "outputs": [
    {
     "name": "stdout",
     "output_type": "stream",
     "text": [
      "(1000, 3)\n"
     ]
    },
    {
     "data": {
      "text/html": [
       "<div>\n",
       "<table border=\"1\" class=\"dataframe\">\n",
       "  <thead>\n",
       "    <tr style=\"text-align: right;\">\n",
       "      <th></th>\n",
       "      <th>Math</th>\n",
       "      <th>Reading</th>\n",
       "      <th>Writing</th>\n",
       "    </tr>\n",
       "  </thead>\n",
       "  <tbody>\n",
       "    <tr>\n",
       "      <th>0</th>\n",
       "      <td>48</td>\n",
       "      <td>68</td>\n",
       "      <td>63</td>\n",
       "    </tr>\n",
       "    <tr>\n",
       "      <th>1</th>\n",
       "      <td>62</td>\n",
       "      <td>81</td>\n",
       "      <td>72</td>\n",
       "    </tr>\n",
       "    <tr>\n",
       "      <th>2</th>\n",
       "      <td>79</td>\n",
       "      <td>80</td>\n",
       "      <td>78</td>\n",
       "    </tr>\n",
       "    <tr>\n",
       "      <th>3</th>\n",
       "      <td>76</td>\n",
       "      <td>83</td>\n",
       "      <td>79</td>\n",
       "    </tr>\n",
       "    <tr>\n",
       "      <th>4</th>\n",
       "      <td>59</td>\n",
       "      <td>64</td>\n",
       "      <td>62</td>\n",
       "    </tr>\n",
       "  </tbody>\n",
       "</table>\n",
       "</div>"
      ],
      "text/plain": [
       "   Math  Reading  Writing\n",
       "0    48       68       63\n",
       "1    62       81       72\n",
       "2    79       80       78\n",
       "3    76       83       79\n",
       "4    59       64       62"
      ]
     },
     "execution_count": 1,
     "metadata": {},
     "output_type": "execute_result"
    }
   ],
   "source": [
    "#Edbel Basaldua\n",
    "# HW 5 simple linear regression part b\n",
    "#Importing Necessary Libraries\n",
    "%matplotlib inline\n",
    "import numpy as np\n",
    "import pandas as pd\n",
    "import matplotlib.pyplot as plt\n",
    "plt.rcParams['figure.figsize'] = (20.0, 10.0)\n",
    "\n",
    "# Reading Data from the provided sources on the website\n",
    "#File being read in is the head bain set using a file stream \n",
    "data = pd.read_csv('student.csv')\n",
    "# \n",
    "print(data.shape)\n",
    "data.head()"
   ]
  },
  {
   "cell_type": "code",
   "execution_count": 2,
   "metadata": {},
   "outputs": [],
   "source": [
    "# Collecting X and Y values from the link list with the training set as parameters\n",
    "# we are trying to predict a given student writing scores based on their reading scores\n",
    "# so in this context the independent var is the reading score and the dependent var is the writing score \n",
    "# because its the variable we are trying to predic in the model\n",
    "Y= data['Writing'].values\n",
    "X = data['Reading'].values"
   ]
  },
  {
   "cell_type": "code",
   "execution_count": 3,
   "metadata": {},
   "outputs": [
    {
     "name": "stdout",
     "output_type": "stream",
     "text": [
      "0.9157230326404356 7.038748392343869\n"
     ]
    }
   ],
   "source": [
    "# Mean X and Y\n",
    "# This is mean for both of the variables namely the average for the reading scores and the writinng scors in the data set\n",
    "# It uses some sort of built in math fucnction to get the mean\n",
    "mean_x = np.mean(X)\n",
    "mean_y = np.mean(Y)\n",
    "\n",
    "# Total number of values is stored as m which is a part of the Least squares method\n",
    "# it also serves as a iteration variable \n",
    "m = len(X)\n",
    "\n",
    "# Implements the formula to find the beta coeff 0 and 1\n",
    "# takes in the previous declaraions as input\n",
    "# Numerator is the product of the elements in the set and thier distance from the mean of both the independent\n",
    "# and the independent variable respectively\n",
    "#Denominator performs the same distance meaasure but for only the indepedent var\n",
    "# Using the formula to calculate b1 and b2\n",
    "numer = 0\n",
    "denom = 0\n",
    "for i in range(m):\n",
    "    numer += (X[i] - mean_x) * (Y[i] - mean_y)\n",
    "    denom += (X[i] - mean_x) ** 2\n",
    "b1 = numer / denom\n",
    "b0 = mean_y - (b1 * mean_x)\n",
    "\n",
    "# Print the beta coefficients\n",
    "print(b1, b0)"
   ]
  },
  {
   "cell_type": "code",
   "execution_count": 4,
   "metadata": {},
   "outputs": [
    {
     "data": {
      "image/png": "[encoded data removed]",
      "text/plain": [
       "<matplotlib.figure.Figure at 0x7fdaf397bb70>"
      ]
     },
     "metadata": {},
     "output_type": "display_data"
    }
   ],
   "source": [
    "# Plotting Values and Regression Line using the aggrefgation functions in the packages \n",
    "# seems to be some sort of method call to the function\n",
    "\n",
    "max_x = np.max(X) + 100\n",
    "min_x = np.min(X) - 100\n",
    "\n",
    "# Calculating line values x and y\n",
    "x = np.linspace(min_x, max_x, 1000)\n",
    "\n",
    "# This uses the previos calculated beta coeff and implements a\n",
    "# Singular regression model for this instance of data \n",
    "y = b0 + b1 * x\n",
    "\n",
    "# Ploting Line using the plotting packages\n",
    "# plus the green and orange color codes\n",
    "# \n",
    "plt.plot(x, y, color='#58b970', label='Regression Line')\n",
    "# Ploting Scatter Points\n",
    "plt.scatter(X, Y, c='#ef5423', label='Scatter Plot')\n",
    "# Creat the labels for the plot to identify the independent and dependent vars\n",
    "plt.xlabel('Reading Scores')\n",
    "plt.ylabel('Writing scores')\n",
    "plt.legend()\n",
    "plt.show()"
   ]
  },
  {
   "cell_type": "code",
   "execution_count": 5,
   "metadata": {},
   "outputs": [
    {
     "name": "stdout",
     "output_type": "stream",
     "text": [
      "4.473946880840203\n"
     ]
    }
   ],
   "source": [
    "# We need to check the accuracy or test how good the model is\n",
    "# by Calculating Root Mean Squares Error it will allow us to see\n",
    "# how the predicted vlaues of the regression model compare to the actual data in the set of scores\n",
    "# Once it is compete then it will be dispalyed to the console\n",
    "rmse = 0\n",
    "for i in range(m):\n",
    "    y_pred = b0 + b1 * X[i]\n",
    "    rmse += (Y[i] - y_pred) ** 2\n",
    "rmse = np.sqrt(rmse/m)\n",
    "print(rmse)"
   ]
  },
  {
   "cell_type": "code",
   "execution_count": 6,
   "metadata": {},
   "outputs": [
    {
     "name": "stdout",
     "output_type": "stream",
     "text": [
      "0.9067337801503714\n"
     ]
    }
   ],
   "source": [
    "# In order to test the model we can use the R^2 measure to see if the value falls between 0 or 1\n",
    "# the closer this value is to 1 the better the model is and the closer it is to 0 then the worse the model\n",
    "# is at preicting the output of Y \n",
    "# Additionally if the value come back negative then the model that is estimated using the least squares method is wrong\n",
    "# Initially we have the total sum of squares and the total sum of squarres of residuals as zero \n",
    "# then after m iterations these values are stored in the variables declared and then printed to the console\n",
    "ss_t = 0\n",
    "ss_r = 0\n",
    "for i in range(m):\n",
    "    y_pred = b0 + b1 * X[i]\n",
    "    ss_t += (Y[i] - mean_y) ** 2\n",
    "    ss_r += (Y[i] - y_pred) ** 2\n",
    "r2 = 1 - (ss_r/ss_t)\n",
    "print(r2)"
   ]
  },
  {
   "cell_type": "code",
   "execution_count": null,
   "metadata": {},
   "outputs": [],
   "source": []
  }
 ],
 "metadata": {
  "kernelspec": {
   "display_name": "Python 3",
   "language": "python",
   "name": "python3"
  },
  "language_info": {
   "codemirror_mode": {
    "name": "ipython",
    "version": 3
   },
   "file_extension": ".py",
   "mimetype": "text/x-python",
   "name": "python",
   "nbconvert_exporter": "python",
   "pygments_lexer": "ipython3",
   "version": "3.5.4"
  }
 },
 "nbformat": 4,
 "nbformat_minor": 2
}
