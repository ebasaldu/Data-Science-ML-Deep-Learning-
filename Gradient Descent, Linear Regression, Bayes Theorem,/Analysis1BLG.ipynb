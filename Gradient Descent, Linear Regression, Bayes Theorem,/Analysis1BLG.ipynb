{
  "nbformat": 4,
  "nbformat_minor": 0,
  "metadata": {
    "colab": {
      "name": "Assignment1.ipynb",
      "provenance": [],
      "collapsed_sections": []
    },
    "kernelspec": {
      "display_name": "Python [conda env:p3env]",
      "language": "python",
      "name": "conda-env-p3env-py"
    }
  },
  "cells": [
    {
      "cell_type": "markdown",
      "metadata": {
        "id": "KE3SX2vYOM-j",
        "colab_type": "text"
      },
      "source": [
        "# CMPS 144"
      ]
    },
    {
      "cell_type": "markdown",
      "metadata": {
        "id": "wi3x-NoXOM-k",
        "colab_type": "text"
      },
      "source": [
        "## Asg1\n",
        
      ]
    },
    {
      "cell_type": "code",
      "metadata": {
        "id": "9e16mk5jOM-k",
        "colab_type": "code",
        "colab": {}
      },
      "source": [
        "\"Edbel Basaldua\"\n",
  
      ],
      "execution_count": 0,
      "outputs": []
    },
    {
      "cell_type": "markdown",
      "metadata": {
        "id": "6sZz4Sr9OM-n",
        "colab_type": "text"
      },
      "source": [
        "## Problem 1 \n",
        "\n",
        "In the famous Monte Hall problem, a contestant is asked to select one of three doors. Behind one of the doors is a new car, while behind the other doors are goats. The game show host (e.g., Monte Hall) opens one of the two remaining doors, revealing a goat. The contestant is then asked if they want to switch the door they picked for the other closed door. Should they switch doors or not?\n",
        "\n",
        "We can use Bayes' Theorem to decide. Suppose the contestant selects door \\#3 (we lose no generality, since we could always renumber the doors so that the contestant did indeed select door \\#3). Initially the probabilities of door $i$  hiding the car is   $~~\\text{Pr}~(\\text{car behind door}~i) = 1/3,~~$  for $i = 1, 2, 3$.\n",
        "\n",
        "Since we're assuming the contestant picked door \\#3, we have the following conditional probabilities, since the host will only open one of the remaining doors (door \\#1 or door \\#2):\n",
        "\n",
        "$$\\text{Pr}~(\\text{host opens door 1  |  door 1 hides the car}) = 0$$\n",
        "$$\\text{Pr}~(\\text{host opens door 1  |  door 2 hides the car}) = 1$$\n",
        "$$\\text{Pr}~(\\text{host opens door 1  |  door 3 hides the car}) = 1/2$$\n",
        "\n",
        "$$\\text{Pr}~(\\text{host opens door 2  |  door 1 hides the car}) = 1$$\n",
        "$$\\text{Pr}~(\\text{host opens door 2  |  door 2 hides the car}) = 0$$\n",
        "$$\\text{Pr}~(\\text{host opens door 2  |  door 3 hides the car}) = 1/2$$\n",
        "\n",
        "Let $~C_i~$ denote that door $i$ has the car, and let $~R_j~$ denote that the host has revealed a goat behind door $j$. Then the above conditional probabilities can more succintly be expressed as:\n",
        "\n",
        "$$\\text{Pr}~(R_1~ \\vert~ C_1) = 0 \\quad\\quad \\text{Pr}~(R_1~ \\vert~ C_2) = 1 \\quad\\quad \\text{Pr}~(R_1~ \\vert~ C_3) = 1/2$$\n",
        "\n",
        "$$\\text{Pr}~(R_2~ \\vert~ C_1) = 1 \\quad\\quad \\text{Pr}~(R_2~ \\vert~ C_2) = 0 \\quad\\quad \\text{Pr}~(R_2~ \\vert~ C_3) = 1/2$$\n",
        "\n",
        "(a)  Use Bayes' theorem to compute: \n",
        "$$\n",
        "\\text{Pr}~(\\text{door 1 hides the car | host opens door 2})\n",
        "=\\text{Pr}~(C_1~ \\vert~ R_2)$$\n",
        "\n",
        "This equals the probability that the contestant will win the car by switching doors from door \\#3 to door \\#1, when the host reveals a goat behind door \\#2.\n",
        "\n",
        "HINT -   You need to compute:\n",
        "\n",
        "$$\\text{Pr}~(C_1 ~\\vert~ R_2)=\\frac{\\text{Pr}~(R_2 ~\\vert~ C_1)\\cdot\\text{Pr}~(C_1)}\n",
        "{\\text{Pr}~(R_2 ~\\vert~ C_1)\\cdot\\text{Pr}~(C_1)+\n",
        "\\text{Pr}~(R_2 ~\\vert~ C_2)\\cdot\\text{Pr}~(C_2)+\n",
        "\\text{Pr}~(R_2 ~\\vert~ C_3)\\cdot\\text{Pr}~(C_3)}$$"
      ]
    },
    {
      "cell_type": "markdown",
      "metadata": {
        "id": "t6VUE0q7OM-o",
        "colab_type": "text"
      },
      "source": [
        "\n",
        "$P(C_1| R_2) = \\displaystyle\\frac{2}{3}$"
      ]
    },
    {
      "cell_type": "markdown",
      "metadata": {
        "id": "qxSr3ZKoOM-p",
        "colab_type": "text"
      },
      "source": [
        "(b)  Use Bayes' theorem to compute:\n",
        "$$\\text{Pr}~(\\text{door 2 hides the car | host opens door 1})\n",
        "=\\text{Pr}~(C_2~ \\vert~ R_1)$$\n",
        "\n",
        "This equals the probability that the contestant will win the car by switching doors from door \\#3 to door \\#2, when the host reveals a goat behind door \\#1."
      ]
    },
    {
      "cell_type": "markdown",
      "metadata": {
        "id": "R42jwRXnOM-p",
        "colab_type": "text"
      },
      "source": [
        "$P(C_2| R_1) = \\displaystyle\\frac{2}{3}$"
      ]
    },
    {
      "cell_type": "markdown",
      "metadata": {
        "id": "JzMI1CnZOM-r",
        "colab_type": "text"
      },
      "source": [
        "(c)  What is your conclusion? What strategy should the contestant follow, should she switch doors or not (or does it matter?).  What is the probability that the contestant wins a car by following the strategy of ALWAYS switching doors?"
      ]
    },
    {
      "cell_type": "markdown",
      "metadata": {
        "id": "qAvxUyCpOM-r",
        "colab_type": "text"
      },
      "source": [
        "Based on the two problems above I concluded that it is way better to Switch than stay with the same door once Monty reveals the goat behind one of the doors. The reason being is that intially your choice is made on the odds of 1/3 . when the new door is revealed with the goat you know whats inside of it so you will not switch to that door. At this point your odds are now 2/3 so you have more of an incentive to switch. If you do switch on average you will win the car 2 out of 3 times.\n",
        "\n",
        "For example let say that door 1 has the car behind it.\n",
        "\n",
        "Now the three scenarios that are possible given this are:\n",
        "\n",
        "1. I pick door 1. Monty hall opens door 2 or door 3 to reveal a goat.Let say  the switch is made to the one he did not show and you lose.\n",
        "2. You choose door 2 from the start. Monty hall will avoid opeing door 1 so he opens door 3. Now you know door 3 has no car so you will not choose that one. if you do switch, you will switch door 1 and win the car\n",
        "\n",
        "3. door 3 is chosen. Monty hall avoids opening door 1 so he opens door 2. Door 2 had the goat in it so you if you switch, you switch to door 1 resulting in a  win.\n",
        "\n",
        "given this example we see that switchin leads to greater chances of winning."
      ]
    },
    {
      "cell_type": "markdown",
      "metadata": {
        "id": "MMULFTNjOM-s",
        "colab_type": "text"
      },
      "source": [
        "## Dataset Overview\n",
        "\n",
        "For the remaining problems in this assignment we'll use the 500-Person_Gender_Height_Weight_Index dataset. After some preliminary exploration, we'll create a multilinear model to predict the Index from the other factors, and then we'll discover the same model, but using gradient descent. This Index measure consists of a numerical scale:\n",
        "\n",
        "        0 - extremely weak\n",
        "        1 - weak\n",
        "        2 - normal\n",
        "        3 - overweight\n",
        "        4 - obese\n",
        "        5 - extremely obese\n",
        "    \n",
        "In this dataset, weight is measured in kilograms, and height is measured in centimeters. At first Index seemed related to the body mass index \\[BMI\\], so we'll also compute the BMI for comparison.\n",
        "\n",
        "First, lets read in the dataset (this may take a moment)."
      ]
    },
    {
      "cell_type": "code",
      "metadata": {
        "id": "dDgaRVsROM-u",
        "colab_type": "code",
        "outputId": "ed0b5cd7-d6b1-4b0e-d388-ff66a4e6f8c0",
        "colab": {
          "base_uri": "https://localhost:8080/",
          "height": 170
        }
      },
      "source": [
        "# Some useful packages\n",
        "import numpy as np         # linear algebra\n",
        "import sklearn as sk       # machine learning\n",
        "import pandas as pd        # reading in data files, data cleaning\n",
        "import matplotlib.pyplot as plt   # for plotting\n",
        "import seaborn as sns      # visualization tool\n",
        "\n",
        "# This loads in the dataset we'll be using for this assignment.\n",
        "file_id = '172V7yK-DjsxoaejDlOEl9S1R4A_GdP7U'\n",
        "link = 'https://drive.google.com/uc?export=download&id={FILE_ID}'\n",
        "csv_url = link.format(FILE_ID = file_id)\n",
        "\n",
        "# Import the file as a Pandas data frame.\n",
        "data = pd.read_csv(csv_url)\n",
        "\n",
        "# A summary of this dataset:\n",
        "data.info()"
      ],
      "execution_count": 0,
      "outputs": [
        {
          "output_type": "stream",
          "text": [
            "<class 'pandas.core.frame.DataFrame'>\n",
            "RangeIndex: 500 entries, 0 to 499\n",
            "Data columns (total 4 columns):\n",
            "Gender    500 non-null object\n",
            "Height    500 non-null int64\n",
            "Weight    500 non-null int64\n",
            "Index     500 non-null int64\n",
            "dtypes: int64(3), object(1)\n",
            "memory usage: 15.7+ KB\n"
          ],
          "name": "stdout"
        }
      ]
    },
    {
      "cell_type": "markdown",
      "metadata": {
        "id": "kE5I-u9aOM-y",
        "colab_type": "text"
      },
      "source": [
        "Notice that this dataset has no Null entries, so our preprocessing will be minimal.  \n",
        "Let's take a peek at the first records in this dataset."
      ]
    },
    {
      "cell_type": "code",
      "metadata": {
        "id": "HzEZ6qmfOM-y",
        "colab_type": "code",
        "outputId": "38e62f56-044d-4624-dc63-f28662f9eb3e",
        "colab": {
          "base_uri": "https://localhost:8080/",
          "height": 204
        }
      },
      "source": [
        "data.head()  # this command is useful to peek at the dataset after each change"
      ],
      "execution_count": 0,
      "outputs": [
        {
          "output_type": "execute_result",
          "data": {
            "text/html": [
              "<div>\n",
              "<style scoped>\n",
              "    .dataframe tbody tr th:only-of-type {\n",
              "        vertical-align: middle;\n",
              "    }\n",
              "\n",
              "    .dataframe tbody tr th {\n",
              "        vertical-align: top;\n",
              "    }\n",
              "\n",
              "    .dataframe thead th {\n",
              "        text-align: right;\n",
              "    }\n",
              "</style>\n",
              "<table border=\"1\" class=\"dataframe\">\n",
              "  <thead>\n",
              "    <tr style=\"text-align: right;\">\n",
              "      <th></th>\n",
              "      <th>Gender</th>\n",
              "      <th>Height</th>\n",
              "      <th>Weight</th>\n",
              "      <th>Index</th>\n",
              "    </tr>\n",
              "  </thead>\n",
              "  <tbody>\n",
              "    <tr>\n",
              "      <th>0</th>\n",
              "      <td>Male</td>\n",
              "      <td>174</td>\n",
              "      <td>96</td>\n",
              "      <td>4</td>\n",
              "    </tr>\n",
              "    <tr>\n",
              "      <th>1</th>\n",
              "      <td>Male</td>\n",
              "      <td>189</td>\n",
              "      <td>87</td>\n",
              "      <td>2</td>\n",
              "    </tr>\n",
              "    <tr>\n",
              "      <th>2</th>\n",
              "      <td>Female</td>\n",
              "      <td>185</td>\n",
              "      <td>110</td>\n",
              "      <td>4</td>\n",
              "    </tr>\n",
              "    <tr>\n",
              "      <th>3</th>\n",
              "      <td>Female</td>\n",
              "      <td>195</td>\n",
              "      <td>104</td>\n",
              "      <td>3</td>\n",
              "    </tr>\n",
              "    <tr>\n",
              "      <th>4</th>\n",
              "      <td>Male</td>\n",
              "      <td>149</td>\n",
              "      <td>61</td>\n",
              "      <td>3</td>\n",
              "    </tr>\n",
              "  </tbody>\n",
              "</table>\n",
              "</div>"
            ],
            "text/plain": [
              "   Gender  Height  Weight  Index\n",
              "0    Male     174      96      4\n",
              "1    Male     189      87      2\n",
              "2  Female     185     110      4\n",
              "3  Female     195     104      3\n",
              "4    Male     149      61      3"
            ]
          },
          "metadata": {
            "tags": []
          },
          "execution_count": 3
        }
      ]
    },
    {
      "cell_type": "markdown",
      "metadata": {
        "id": "P9cnj4owOM-1",
        "colab_type": "text"
      },
      "source": [
        "Since we want to include Gender in our initial model, we need to create a new column, Sex, with 0 for female and 1 for male."
      ]
    },
    {
      "cell_type": "code",
      "metadata": {
        "id": "3HwEKBu3OM-2",
        "colab_type": "code",
        "outputId": "a6d1ca57-8e4b-4284-8957-33f82b1b4b59",
        "colab": {
          "base_uri": "https://localhost:8080/",
          "height": 204
        }
      },
      "source": [
        "# Make a new column, Sex, as described above.  First copy the Gender column to a new Sex column.\n",
        "data['Sex'] = data['Gender']\n",
        "\n",
        "# Replace strings in Sex, 0 for 'Female' and 1 for 'Male'\n",
        "data['Sex'].replace(['Female', 'Male'], [0, 1], inplace=True)\n",
        "\n",
        "# Look at what we've done.\n",
        "data.head()"
      ],
      "execution_count": 0,
      "outputs": [
        {
          "output_type": "execute_result",
          "data": {
            "text/html": [
              "<div>\n",
              "<style scoped>\n",
              "    .dataframe tbody tr th:only-of-type {\n",
              "        vertical-align: middle;\n",
              "    }\n",
              "\n",
              "    .dataframe tbody tr th {\n",
              "        vertical-align: top;\n",
              "    }\n",
              "\n",
              "    .dataframe thead th {\n",
              "        text-align: right;\n",
              "    }\n",
              "</style>\n",
              "<table border=\"1\" class=\"dataframe\">\n",
              "  <thead>\n",
              "    <tr style=\"text-align: right;\">\n",
              "      <th></th>\n",
              "      <th>Gender</th>\n",
              "      <th>Height</th>\n",
              "      <th>Weight</th>\n",
              "      <th>Index</th>\n",
              "      <th>Sex</th>\n",
              "    </tr>\n",
              "  </thead>\n",
              "  <tbody>\n",
              "    <tr>\n",
              "      <th>0</th>\n",
              "      <td>Male</td>\n",
              "      <td>174</td>\n",
              "      <td>96</td>\n",
              "      <td>4</td>\n",
              "      <td>1</td>\n",
              "    </tr>\n",
              "    <tr>\n",
              "      <th>1</th>\n",
              "      <td>Male</td>\n",
              "      <td>189</td>\n",
              "      <td>87</td>\n",
              "      <td>2</td>\n",
              "      <td>1</td>\n",
              "    </tr>\n",
              "    <tr>\n",
              "      <th>2</th>\n",
              "      <td>Female</td>\n",
              "      <td>185</td>\n",
              "      <td>110</td>\n",
              "      <td>4</td>\n",
              "      <td>0</td>\n",
              "    </tr>\n",
              "    <tr>\n",
              "      <th>3</th>\n",
              "      <td>Female</td>\n",
              "      <td>195</td>\n",
              "      <td>104</td>\n",
              "      <td>3</td>\n",
              "      <td>0</td>\n",
              "    </tr>\n",
              "    <tr>\n",
              "      <th>4</th>\n",
              "      <td>Male</td>\n",
              "      <td>149</td>\n",
              "      <td>61</td>\n",
              "      <td>3</td>\n",
              "      <td>1</td>\n",
              "    </tr>\n",
              "  </tbody>\n",
              "</table>\n",
              "</div>"
            ],
            "text/plain": [
              "   Gender  Height  Weight  Index  Sex\n",
              "0    Male     174      96      4    1\n",
              "1    Male     189      87      2    1\n",
              "2  Female     185     110      4    0\n",
              "3  Female     195     104      3    0\n",
              "4    Male     149      61      3    1"
            ]
          },
          "metadata": {
            "tags": []
          },
          "execution_count": 4
        }
      ]
    },
    {
      "cell_type": "markdown",
      "metadata": {
        "id": "1ALA88ayOM-5",
        "colab_type": "text"
      },
      "source": [
        "## Problem 2 \n",
        "\n",
        "Add a new column to this dataset, called BMI, for the body mass index. This new column has units of $\\frac{\\text{[kg]}}{\\text{[m]}^2}$. Remember to change units, from cm to m.  \n",
        "\n",
        "HINT: If you wanted to create a new column named Product, equal to the product of Height and Weight columns, the following would do the trick..\n",
        "\n",
        "        data['Product'] = data['Height'] * data['Weight']"
      ]
    },
    {
      "cell_type": "code",
      "metadata": {
        "scrolled": true,
        "id": "gjlOzdmGOM-6",
        "colab_type": "code",
        "outputId": "be80c4bd-99a3-418f-bed4-fb42754d63b3",
        "colab": {
          "base_uri": "https://localhost:8080/",
          "height": 204
        }
      },
      "source": [
        "data['BMI'] = data['Weight'] / ((data['Height']/100)**2) #  YOUR CODE HERE\n",
        "\n",
        "# What have you wrought?\n",
        "data.head()\n"
      ],
      "execution_count": 0,
      "outputs": [
        {
          "output_type": "execute_result",
          "data": {
            "text/html": [
              "<div>\n",
              "<style scoped>\n",
              "    .dataframe tbody tr th:only-of-type {\n",
              "        vertical-align: middle;\n",
              "    }\n",
              "\n",
              "    .dataframe tbody tr th {\n",
              "        vertical-align: top;\n",
              "    }\n",
              "\n",
              "    .dataframe thead th {\n",
              "        text-align: right;\n",
              "    }\n",
              "</style>\n",
              "<table border=\"1\" class=\"dataframe\">\n",
              "  <thead>\n",
              "    <tr style=\"text-align: right;\">\n",
              "      <th></th>\n",
              "      <th>Gender</th>\n",
              "      <th>Height</th>\n",
              "      <th>Weight</th>\n",
              "      <th>Index</th>\n",
              "      <th>Sex</th>\n",
              "      <th>BMI</th>\n",
              "    </tr>\n",
              "  </thead>\n",
              "  <tbody>\n",
              "    <tr>\n",
              "      <th>0</th>\n",
              "      <td>Male</td>\n",
              "      <td>174</td>\n",
              "      <td>96</td>\n",
              "      <td>4</td>\n",
              "      <td>1</td>\n",
              "      <td>31.708284</td>\n",
              "    </tr>\n",
              "    <tr>\n",
              "      <th>1</th>\n",
              "      <td>Male</td>\n",
              "      <td>189</td>\n",
              "      <td>87</td>\n",
              "      <td>2</td>\n",
              "      <td>1</td>\n",
              "      <td>24.355421</td>\n",
              "    </tr>\n",
              "    <tr>\n",
              "      <th>2</th>\n",
              "      <td>Female</td>\n",
              "      <td>185</td>\n",
              "      <td>110</td>\n",
              "      <td>4</td>\n",
              "      <td>0</td>\n",
              "      <td>32.140248</td>\n",
              "    </tr>\n",
              "    <tr>\n",
              "      <th>3</th>\n",
              "      <td>Female</td>\n",
              "      <td>195</td>\n",
              "      <td>104</td>\n",
              "      <td>3</td>\n",
              "      <td>0</td>\n",
              "      <td>27.350427</td>\n",
              "    </tr>\n",
              "    <tr>\n",
              "      <th>4</th>\n",
              "      <td>Male</td>\n",
              "      <td>149</td>\n",
              "      <td>61</td>\n",
              "      <td>3</td>\n",
              "      <td>1</td>\n",
              "      <td>27.476240</td>\n",
              "    </tr>\n",
              "  </tbody>\n",
              "</table>\n",
              "</div>"
            ],
            "text/plain": [
              "   Gender  Height  Weight  Index  Sex        BMI\n",
              "0    Male     174      96      4    1  31.708284\n",
              "1    Male     189      87      2    1  24.355421\n",
              "2  Female     185     110      4    0  32.140248\n",
              "3  Female     195     104      3    0  27.350427\n",
              "4    Male     149      61      3    1  27.476240"
            ]
          },
          "metadata": {
            "tags": []
          },
          "execution_count": 5
        }
      ]
    },
    {
      "cell_type": "markdown",
      "metadata": {
        "id": "W57zJ8uaOM-_",
        "colab_type": "text"
      },
      "source": [
        "Notice that the Index measure isn't the BMI, though it's about 1/10 of the BMI. Clearly Index measures something a bit different than BMI.\n",
        "    "
      ]
    },
    {
      "cell_type": "markdown",
      "metadata": {
        "id": "99bBkLNlOM_A",
        "colab_type": "text"
      },
      "source": [
        "## Problem 3\n",
        "\n",
        "Create new columns, 'H' and 'W', to hold the z-transforms of the Height and Weight columns, as we'll be using those transformed values in our model. These new columns measure the number of standard deviations from the mean for each data instance.\n",
        "\n",
        "Hints:\n",
        "\n",
        "$\\quad\\quad \\text{data['Height'].mean()}\\quad$ computes the mean of the Height column\n",
        "\n",
        "$\\quad\\quad \\text{data['Height'].std()}\\quad$ computes the standard deviation of the Height column.\n",
        "\n",
        "The z-transform of a random variable x is defined by\n",
        "$\\quad z = \\frac{x-\\mu}{\\sigma}= \\frac{x-\\text{mean}(x)}{\\text{std}(x)}$."
      ]
    },
    {
      "cell_type": "code",
      "metadata": {
        "id": "KaVGhJYtOM_B",
        "colab_type": "code",
        "outputId": "e2e1822d-5dbb-480a-d841-61512383f9a0",
        "colab": {
          "base_uri": "https://localhost:8080/",
          "height": 204
        }
      },
      "source": [
        "#  YOUR CODE HERE\n",
        "\n",
        "\n",
        "data['H']= ((data['Height']- data['Height'].mean())/data['Height'].std())\n",
        "data['W']= ((data['Weight']- data['Weight'].mean())/data['Weight'].std())\n",
        "\n",
        "# Look at your changes to the dataframe.\n",
        "data.head()"
      ],
      "execution_count": 0,
      "outputs": [
        {
          "output_type": "execute_result",
          "data": {
            "text/html": [
              "<div>\n",
              "<style scoped>\n",
              "    .dataframe tbody tr th:only-of-type {\n",
              "        vertical-align: middle;\n",
              "    }\n",
              "\n",
              "    .dataframe tbody tr th {\n",
              "        vertical-align: top;\n",
              "    }\n",
              "\n",
              "    .dataframe thead th {\n",
              "        text-align: right;\n",
              "    }\n",
              "</style>\n",
              "<table border=\"1\" class=\"dataframe\">\n",
              "  <thead>\n",
              "    <tr style=\"text-align: right;\">\n",
              "      <th></th>\n",
              "      <th>Gender</th>\n",
              "      <th>Height</th>\n",
              "      <th>Weight</th>\n",
              "      <th>Index</th>\n",
              "      <th>Sex</th>\n",
              "      <th>BMI</th>\n",
              "      <th>H</th>\n",
              "      <th>W</th>\n",
              "    </tr>\n",
              "  </thead>\n",
              "  <tbody>\n",
              "    <tr>\n",
              "      <th>0</th>\n",
              "      <td>Male</td>\n",
              "      <td>174</td>\n",
              "      <td>96</td>\n",
              "      <td>4</td>\n",
              "      <td>1</td>\n",
              "      <td>31.708284</td>\n",
              "      <td>0.247691</td>\n",
              "      <td>-0.308808</td>\n",
              "    </tr>\n",
              "    <tr>\n",
              "      <th>1</th>\n",
              "      <td>Male</td>\n",
              "      <td>189</td>\n",
              "      <td>87</td>\n",
              "      <td>2</td>\n",
              "      <td>1</td>\n",
              "      <td>24.355421</td>\n",
              "      <td>1.163707</td>\n",
              "      <td>-0.586735</td>\n",
              "    </tr>\n",
              "    <tr>\n",
              "      <th>2</th>\n",
              "      <td>Female</td>\n",
              "      <td>185</td>\n",
              "      <td>110</td>\n",
              "      <td>4</td>\n",
              "      <td>0</td>\n",
              "      <td>32.140248</td>\n",
              "      <td>0.919436</td>\n",
              "      <td>0.123523</td>\n",
              "    </tr>\n",
              "    <tr>\n",
              "      <th>3</th>\n",
              "      <td>Female</td>\n",
              "      <td>195</td>\n",
              "      <td>104</td>\n",
              "      <td>3</td>\n",
              "      <td>0</td>\n",
              "      <td>27.350427</td>\n",
              "      <td>1.530113</td>\n",
              "      <td>-0.061762</td>\n",
              "    </tr>\n",
              "    <tr>\n",
              "      <th>4</th>\n",
              "      <td>Male</td>\n",
              "      <td>149</td>\n",
              "      <td>61</td>\n",
              "      <td>3</td>\n",
              "      <td>1</td>\n",
              "      <td>27.476240</td>\n",
              "      <td>-1.279003</td>\n",
              "      <td>-1.389635</td>\n",
              "    </tr>\n",
              "  </tbody>\n",
              "</table>\n",
              "</div>"
            ],
            "text/plain": [
              "   Gender  Height  Weight  Index  Sex        BMI         H         W\n",
              "0    Male     174      96      4    1  31.708284  0.247691 -0.308808\n",
              "1    Male     189      87      2    1  24.355421  1.163707 -0.586735\n",
              "2  Female     185     110      4    0  32.140248  0.919436  0.123523\n",
              "3  Female     195     104      3    0  27.350427  1.530113 -0.061762\n",
              "4    Male     149      61      3    1  27.476240 -1.279003 -1.389635"
            ]
          },
          "metadata": {
            "tags": []
          },
          "execution_count": 6
        }
      ]
    },
    {
      "cell_type": "markdown",
      "metadata": {
        "id": "wmIGG9bcOM_K",
        "colab_type": "text"
      },
      "source": [
        "### Training and Test Sets\n",
        "Next, we'll seperate our data into a training set and a test set. Our model will be based on the training set, and we'll use it to try to predict the values in the test set.  The test set is kept seperate from the training set, so we can get an idea of how well our model will perform on new, as yet unseen data."
      ]
    },
    {
      "cell_type": "code",
      "metadata": {
        "id": "ulsXSZ5FOM_L",
        "colab_type": "code",
        "colab": {}
      },
      "source": [
        "# We'll only need the columns 'Sex', 'H', and 'W' for our data, X, and 'Index' for our labels, y.\n",
        "X = data[['Sex', 'H', 'W']]\n",
        "y = data['Index']\n",
        "\n",
        "# This library will help us randomly split our data into training and test sets, \n",
        "# using 20% of the data for our test set.\n",
        "from sklearn.model_selection import train_test_split\n",
        "X_train, X_test, y_train, y_test = train_test_split(X, y, test_size = 0.2, random_state=0)"
      ],
      "execution_count": 0,
      "outputs": []
    },
    {
      "cell_type": "code",
      "metadata": {
        "id": "_MgdjeycOM_P",
        "colab_type": "code",
        "outputId": "534b0afd-91a8-4563-c668-1ff99747e65e",
        "colab": {
          "base_uri": "https://localhost:8080/",
          "height": 204
        }
      },
      "source": [
        "# X holds the data we'll use to predict the labels y.\n",
        "X_train.head()"
      ],
      "execution_count": 0,
      "outputs": [
        {
          "output_type": "execute_result",
          "data": {
            "text/html": [
              "<div>\n",
              "<style scoped>\n",
              "    .dataframe tbody tr th:only-of-type {\n",
              "        vertical-align: middle;\n",
              "    }\n",
              "\n",
              "    .dataframe tbody tr th {\n",
              "        vertical-align: top;\n",
              "    }\n",
              "\n",
              "    .dataframe thead th {\n",
              "        text-align: right;\n",
              "    }\n",
              "</style>\n",
              "<table border=\"1\" class=\"dataframe\">\n",
              "  <thead>\n",
              "    <tr style=\"text-align: right;\">\n",
              "      <th></th>\n",
              "      <th>Sex</th>\n",
              "      <th>H</th>\n",
              "      <th>W</th>\n",
              "    </tr>\n",
              "  </thead>\n",
              "  <tbody>\n",
              "    <tr>\n",
              "      <th>107</th>\n",
              "      <td>1</td>\n",
              "      <td>-0.668325</td>\n",
              "      <td>1.482277</td>\n",
              "    </tr>\n",
              "    <tr>\n",
              "      <th>336</th>\n",
              "      <td>0</td>\n",
              "      <td>-0.179783</td>\n",
              "      <td>1.451396</td>\n",
              "    </tr>\n",
              "    <tr>\n",
              "      <th>71</th>\n",
              "      <td>1</td>\n",
              "      <td>0.491962</td>\n",
              "      <td>0.339689</td>\n",
              "    </tr>\n",
              "    <tr>\n",
              "      <th>474</th>\n",
              "      <td>0</td>\n",
              "      <td>-0.179783</td>\n",
              "      <td>-0.833781</td>\n",
              "    </tr>\n",
              "    <tr>\n",
              "      <th>6</th>\n",
              "      <td>1</td>\n",
              "      <td>-1.401138</td>\n",
              "      <td>-0.432331</td>\n",
              "    </tr>\n",
              "  </tbody>\n",
              "</table>\n",
              "</div>"
            ],
            "text/plain": [
              "     Sex         H         W\n",
              "107    1 -0.668325  1.482277\n",
              "336    0 -0.179783  1.451396\n",
              "71     1  0.491962  0.339689\n",
              "474    0 -0.179783 -0.833781\n",
              "6      1 -1.401138 -0.432331"
            ]
          },
          "metadata": {
            "tags": []
          },
          "execution_count": 8
        }
      ]
    },
    {
      "cell_type": "code",
      "metadata": {
        "id": "wd8DkfflOM_X",
        "colab_type": "code",
        "outputId": "c5157a92-88ef-447b-bebb-c798f225ed8a",
        "colab": {
          "base_uri": "https://localhost:8080/",
          "height": 119
        }
      },
      "source": [
        "# y holds the corresponding labels.\n",
        "y_train.head()"
      ],
      "execution_count": 0,
      "outputs": [
        {
          "output_type": "execute_result",
          "data": {
            "text/plain": [
              "107    5\n",
              "336    5\n",
              "71     4\n",
              "474    3\n",
              "6      5\n",
              "Name: Index, dtype: int64"
            ]
          },
          "metadata": {
            "tags": []
          },
          "execution_count": 9
        }
      ]
    },
    {
      "cell_type": "markdown",
      "metadata": {
        "id": "HimjW873OM_a",
        "colab_type": "text"
      },
      "source": [
        "So we now have X_train, the data we're using to train our model to predict the given corresponding lables y_train.  Once we've trained our model, we can then use it to try to predict the labels for the X_test data (we can then compare our predictions with the known labels stored in y_test)."
      ]
    },
    {
      "cell_type": "markdown",
      "metadata": {
        "id": "6KztjR_nOM_b",
        "colab_type": "text"
      },
      "source": [
        "### Linear Regression\n",
        "\n",
        "Now we'll create a linear regression model (some would call this multiple regression, since we're using 3 predictor variables rather than 1). The machine learning library SciKit-Learn (sklearn) will do the heavy lifting."
      ]
    },
    {
      "cell_type": "code",
      "metadata": {
        "id": "NzRY8ku9OM_b",
        "colab_type": "code",
        "outputId": "4ae2d392-cd81-4c11-9fb2-3196aa7368b5",
        "colab": {
          "base_uri": "https://localhost:8080/",
          "height": 51
        }
      },
      "source": [
        "from sklearn import linear_model\n",
        "\n",
        "# This next line defines a linear model that still must be fit to our training data.\n",
        "lm = linear_model.LinearRegression()\n",
        "# Fitting our data to the model is now easy!\n",
        "model = lm.fit(X_train, y_train)\n",
        "\n",
        "# Let's examine this model.\n",
        "\n",
        "# How well does our model predict the sale price?\n",
        "# The answer to this is called the coefficient of determination, or R^2. This measures the proportion of\n",
        "# the variation in the data that was explained by our linear model.\n",
        "print('Training set R^2 =', lm.score(X_train, y_train))\n",
        "print('Test set R^2 =', lm.score(X_test, y_test))"
      ],
      "execution_count": 0,
      "outputs": [
        {
          "output_type": "stream",
          "text": [
            "('Training set R^2 =', 0.8278521846218956)\n",
            "('Test set R^2 =', 0.816823952075908)\n"
          ],
          "name": "stdout"
        }
      ]
    },
    {
      "cell_type": "markdown",
      "metadata": {
        "id": "dWpT8HZROM_e",
        "colab_type": "text"
      },
      "source": [
        "Our linear model did slightly better on the training set than on the test set. This is almost always the case, since our model hadn't seen the test set before."
      ]
    },
    {
      "cell_type": "code",
      "metadata": {
        "id": "knlx4bjhOM_f",
        "colab_type": "code",
        "outputId": "e7906f87-8848-42a7-d7c3-62231cc8025c",
        "colab": {
          "base_uri": "https://localhost:8080/",
          "height": 51
        }
      },
      "source": [
        "# The coefficients found by this model are\n",
        "print('the coefficients =', lm.coef_)\n",
        "print('the intercept =', lm.intercept_)"
      ],
      "execution_count": 0,
      "outputs": [
        {
          "output_type": "stream",
          "text": [
            "('the coefficients =', array([ 0.00208042, -0.5639624 ,  1.09752865]))\n",
            "('the intercept =', 3.7385774612255336)\n"
          ],
          "name": "stdout"
        }
      ]
    },
    {
      "cell_type": "markdown",
      "metadata": {
        "id": "ERZu2HaaOM_g",
        "colab_type": "text"
      },
      "source": [
        "These coefficients are used as follows to try to predict the correct Index value:\n",
        "\n",
        "$$0.00208042\\cdot \\text{Sex} + (-0.5639624)\\cdot H + 1.09752865\\cdot W + 3.73857746 = \\text{Index}$$\n",
        "\n",
        "Notice first that the Sex factor only adds only about 0.002 to men's Index scores. This factor contributes so little, it's best left out. Next notice that all else being equal, an increase of one standard deviation in height decreases the resulting index by about 0.56. Also notice that all else being equal, increasing the weight by one standard deviation results in an Index score increase of more than 1."
      ]
    },
    {
      "cell_type": "markdown",
      "metadata": {
        "id": "HmiyULuIOM_h",
        "colab_type": "text"
      },
      "source": [
        "## Problem 4\n",
        "\n",
        "Recreate the above linear regression model, but this time not using the Sex column. "
      ]
    },
    {
      "cell_type": "code",
      "metadata": {
        "id": "U6_2NlpaOM_h",
        "colab_type": "code",
        "outputId": "31b64eac-f774-4aba-dc43-79fa03cd086b",
        "colab": {
          "base_uri": "https://localhost:8080/",
          "height": 85
        }
      },
      "source": [
        "#  YOUR CODE HERE\n",
        "# This is the regresssion model without the use of the Sex column\n",
        "# We'll only need the columns 'H', and 'W' for our data, X, and 'Index' for our labels, y.\n",
        "X = data[['H', 'W']]\n",
        "y = data['Index']\n",
        "\n",
        "# This library will help us randomly split our data into training and test sets, \n",
        "# using 20% of the data for our test set.\n",
        "from sklearn.model_selection import train_test_split\n",
        "X_train, X_test, y_train, y_test = train_test_split(X, y, test_size = 0.2, random_state=0)\n",
        "\n",
        "# X holds the data we'll use to predict the labels y.\n",
        "X_train.head()\n",
        "# y holds the corresponding labels.\n",
        "y_train.head()\n",
        "\n",
        "from sklearn import linear_model\n",
        "\n",
        "# This next line defines a linear model that still must be fit to our training data.\n",
        "lm = linear_model.LinearRegression()\n",
        "# Fitting our data to the model is now easy!\n",
        "model = lm.fit(X_train, y_train)\n",
        "\n",
        "# Let's examine this model.\n",
        "\n",
        "# How well does our model predict the sale price?\n",
        "# The answer to this is called the coefficient of determination, or R^2. This measures the proportion of\n",
        "# the variation in the data that was explained by our linear model.\n",
        "print('Training set R^2 =', lm.score(X_train, y_train))\n",
        "print('Test set R^2 =', lm.score(X_test, y_test))\n",
        "\n",
        "# The coefficients found by this model are\n",
        "print('the coefficients =', lm.coef_)\n",
        "print('the intercept =', lm.intercept_)"
      ],
      "execution_count": 0,
      "outputs": [
        {
          "output_type": "stream",
          "text": [
            "('Training set R^2 =', 0.8278516070326984)\n",
            "('Test set R^2 =', 0.8167131841611407)\n",
            "('the coefficients =', array([-0.5639695 ,  1.09756578]))\n",
            "('the intercept =', 3.739566020220715)\n"
          ],
          "name": "stdout"
        }
      ]
    },
    {
      "cell_type": "markdown",
      "metadata": {
        "id": "xdQsVovZOM_j",
        "colab_type": "text"
      },
      "source": [
        "What is the new accuracy you obtained?  What's the significance of this new model's accuracy, as compared with our previous model?"
      ]
    },
    {
      "cell_type": "markdown",
      "metadata": {
        "id": "v3p3aYXdOM_j",
        "colab_type": "text"
      },
      "source": [
        "The new accuracy based on the R squared values that were given with the new model is slightly higher in comparison to the old. To be more precise the total increase in is : \n",
        "\n",
        "**Where R2 is the new model and R1 is the intial Model**\n",
        "\n",
        "For the **_Training set_** it was:\n",
        "\n",
        "$R_2 -R_1 = 0.8278516070326984 - 0.8278521846218956 $\n",
        "\n",
        "$=-5.775891972 × 10^-7$\n",
        "\n",
        "For the **_Test set_** it was:\n",
        "\n",
        "$R_2 -R_1 = 0.8167131841611407 - 0.816823952075908 $\n",
        "$=-0.0001107679147673$\n",
        "\n",
        "This is the **_New_** regression function with the updated coefficients is :\n",
        "\n",
        "$$ -0.5639695 \\cdot H + 1.09756578\\cdot W + 3.739566020220715 = \\text{Index}$$\n",
        "\n",
        "This is the **_Initial_** regression function with the updated coefficients is :\n",
        "$$0.00208042\\cdot \\text{Sex} + (-0.5639624)\\cdot H + 1.09752865\\cdot W + 3.73857746 = \\text{Index}$$\n",
        "\n",
        "From this analysis it is apparent that by omitting the **Sex** variable from the regression, the model was better able to fit the data and explain more of the variablility in the dataset. We see this in the difference in the R squared vaues in which the training had a little increase and the test set which had a bigger change in accuracy.  Additionally it also increased the impact that H and W have on the Index. The intercept also changes in the positive direction."
      ]
    },
    {
      "cell_type": "markdown",
      "metadata": {
        "id": "zwSFJFKrOM_r",
        "colab_type": "text"
      },
      "source": [
        "## Problem 5\n",
        "\n",
        "Add a column to the dataframe that is the z-transform of the BMI column, and call it zBMI."
      ]
    },
    {
      "cell_type": "code",
      "metadata": {
        "id": "G0vom-_lOM_r",
        "colab_type": "code",
        "outputId": "44979062-e9f2-443a-dd1c-41fcec22da4b",
        "colab": {
          "base_uri": "https://localhost:8080/",
          "height": 204
        }
      },
      "source": [
        "#  YOUR CODE HERE\n",
        "data['zBMI']= (data['BMI']- data['BMI'].mean())/(data['BMI'].std())\n",
        "# See what you've done:\n",
        "data.head()"
      ],
      "execution_count": 0,
      "outputs": [
        {
          "output_type": "execute_result",
          "data": {
            "text/html": [
              "<div>\n",
              "<style scoped>\n",
              "    .dataframe tbody tr th:only-of-type {\n",
              "        vertical-align: middle;\n",
              "    }\n",
              "\n",
              "    .dataframe tbody tr th {\n",
              "        vertical-align: top;\n",
              "    }\n",
              "\n",
              "    .dataframe thead th {\n",
              "        text-align: right;\n",
              "    }\n",
              "</style>\n",
              "<table border=\"1\" class=\"dataframe\">\n",
              "  <thead>\n",
              "    <tr style=\"text-align: right;\">\n",
              "      <th></th>\n",
              "      <th>Gender</th>\n",
              "      <th>Height</th>\n",
              "      <th>Weight</th>\n",
              "      <th>Index</th>\n",
              "      <th>Sex</th>\n",
              "      <th>BMI</th>\n",
              "      <th>H</th>\n",
              "      <th>W</th>\n",
              "      <th>zBMI</th>\n",
              "    </tr>\n",
              "  </thead>\n",
              "  <tbody>\n",
              "    <tr>\n",
              "      <th>0</th>\n",
              "      <td>Male</td>\n",
              "      <td>174</td>\n",
              "      <td>96</td>\n",
              "      <td>4</td>\n",
              "      <td>1</td>\n",
              "      <td>31.708284</td>\n",
              "      <td>0.247691</td>\n",
              "      <td>-0.308808</td>\n",
              "      <td>-0.433708</td>\n",
              "    </tr>\n",
              "    <tr>\n",
              "      <th>1</th>\n",
              "      <td>Male</td>\n",
              "      <td>189</td>\n",
              "      <td>87</td>\n",
              "      <td>2</td>\n",
              "      <td>1</td>\n",
              "      <td>24.355421</td>\n",
              "      <td>1.163707</td>\n",
              "      <td>-0.586735</td>\n",
              "      <td>-0.960205</td>\n",
              "    </tr>\n",
              "    <tr>\n",
              "      <th>2</th>\n",
              "      <td>Female</td>\n",
              "      <td>185</td>\n",
              "      <td>110</td>\n",
              "      <td>4</td>\n",
              "      <td>0</td>\n",
              "      <td>32.140248</td>\n",
              "      <td>0.919436</td>\n",
              "      <td>0.123523</td>\n",
              "      <td>-0.402777</td>\n",
              "    </tr>\n",
              "    <tr>\n",
              "      <th>3</th>\n",
              "      <td>Female</td>\n",
              "      <td>195</td>\n",
              "      <td>104</td>\n",
              "      <td>3</td>\n",
              "      <td>0</td>\n",
              "      <td>27.350427</td>\n",
              "      <td>1.530113</td>\n",
              "      <td>-0.061762</td>\n",
              "      <td>-0.745750</td>\n",
              "    </tr>\n",
              "    <tr>\n",
              "      <th>4</th>\n",
              "      <td>Male</td>\n",
              "      <td>149</td>\n",
              "      <td>61</td>\n",
              "      <td>3</td>\n",
              "      <td>1</td>\n",
              "      <td>27.476240</td>\n",
              "      <td>-1.279003</td>\n",
              "      <td>-1.389635</td>\n",
              "      <td>-0.736741</td>\n",
              "    </tr>\n",
              "  </tbody>\n",
              "</table>\n",
              "</div>"
            ],
            "text/plain": [
              "   Gender  Height  Weight  Index  Sex        BMI         H         W      zBMI\n",
              "0    Male     174      96      4    1  31.708284  0.247691 -0.308808 -0.433708\n",
              "1    Male     189      87      2    1  24.355421  1.163707 -0.586735 -0.960205\n",
              "2  Female     185     110      4    0  32.140248  0.919436  0.123523 -0.402777\n",
              "3  Female     195     104      3    0  27.350427  1.530113 -0.061762 -0.745750\n",
              "4    Male     149      61      3    1  27.476240 -1.279003 -1.389635 -0.736741"
            ]
          },
          "metadata": {
            "tags": []
          },
          "execution_count": 13
        }
      ]
    },
    {
      "cell_type": "markdown",
      "metadata": {
        "id": "nbPh0Cz9OM_w",
        "colab_type": "text"
      },
      "source": [
        "## Problem 6\n",
        "\n",
        "Redo the regression analysis, with X consisting of the columns H, W, zBMI, and y the Index column. What is this model's accuracy on the training set?"
      ]
    },
    {
      "cell_type": "code",
      "metadata": {
        "id": "_JML2FvYOM_x",
        "colab_type": "code",
        "outputId": "ae4aba7b-bb38-4617-e6dd-8f2ef0d54073",
        "colab": {
          "base_uri": "https://localhost:8080/",
          "height": 68
        }
      },
      "source": [
        "#  YOUR CODE HERE\n",
        "# We'll only need the columns 'H','W' and the 'zBMI' for our data, X, and 'Index' for our labels, y.\n",
        "X = data[['H', 'W', 'zBMI']]\n",
        "y = data['Index']\n",
        "\n",
        "# This library will help us randomly split our data into training and test sets, \n",
        "# using 20% of the data for our test set.\n",
        "from sklearn.model_selection import train_test_split\n",
        "X_train, X_test, y_train, y_test = train_test_split(X, y, test_size = 0.2, random_state=0)\n",
        "\n",
        "# X holds the data we'll use to predict the labels y.\n",
        "X_train.head()\n",
        "# y holds the corresponding labels.\n",
        "y_train.head()\n",
        "\n",
        "from sklearn import linear_model\n",
        "\n",
        "# This next line defines a linear model that still must be fit to our training data.\n",
        "lm = linear_model.LinearRegression()\n",
        "# Fitting our data to the model is now easy!\n",
        "model = lm.fit(X_train, y_train)\n",
        "\n",
        "# Let's examine this model.\n",
        "\n",
        "# How well does our model predict the sale price?\n",
        "# The answer to this is called the coefficient of determination, or R^2. This measures the proportion of\n",
        "# the variation in the data that was explained by our linear model.\n",
        "print('Training set R^2 =', lm.score(X_train, y_train))\n",
        "\n",
        "\n",
        "# The coefficients found by this model are\n",
        "print('the coefficients =', lm.coef_)\n",
        "print('the intercept =', lm.intercept_)\n",
        "\n",
        "\n",
        "\n"
      ],
      "execution_count": 0,
      "outputs": [
        {
          "output_type": "stream",
          "text": [
            "('Training set R^2 =', 0.8681347833806468)\n",
            "('the coefficients =', array([-1.36163897,  2.34525421, -1.4924088 ]))\n",
            "('the intercept =', 3.743046281451959)\n"
          ],
          "name": "stdout"
        }
      ]
    },
    {
      "cell_type": "markdown",
      "metadata": {
        "id": "PElO1DmiOM_y",
        "colab_type": "text"
      },
      "source": [
        "The new accuracy based on the R squared values using the H, W and zBMI columns is significantly higher . The values for the coeffecients and the intercept are also slightly higher : \n",
        "\n",
        "**Where R3 is the new model and R2 is the last model that used only H and W**\n",
        "\n",
        "For the **_Training set_** it was a gain of:\n",
        "\n",
        "$R_3 -R_2 = 0.8681347833806468 - 0.8278521846218956 $\n",
        "\n",
        "$=0.0402825987587512$\n",
        "\n",
        "\n",
        "The **_New_** regression function with the updated coefficients is :\n",
        "\n",
        "$$ -1.36163897\\cdot H + 2.34525421\\cdot W + -1.4924088\\cdot zBMI + 3.743046281451959 = \\text{Index}$$\n",
        "\n",
        "This is the **_2nd_** regression function with the  H and W coefficients :\n",
        "$$ -0.5639695 \\cdot H + 1.09756578\\cdot W + 3.739566020220715 = \\text{Index}$$\n",
        "\n",
        "This is the **_Initial_** regression function with the updated coefficients is :\n",
        "$$0.00208042\\cdot \\text{Sex} + (-0.5639624)\\cdot H + 1.09752865\\cdot W + 3.73857746 = \\text{Index}$$\n",
        "\n",
        "From this analysis it is apparent that by adding the zBMI variable as a predictor for the index it greatly increased the accuracy in the model. Now the model accounts for 0.868134... of the training data . It is also apparent that acorss all the models this new one had the greatest impact on the coefficients of the 3 predictor variables for the index."
      ]
    },
    {
      "cell_type": "markdown",
      "metadata": {
        "id": "cOd3jEQoOM_2",
        "colab_type": "text"
      },
      "source": [
        "Knowing the z-tranformed BMI has given our model a bit more predictive power. You'll see in Problem 7 that this did somewhat better on the test set too."
      ]
    },
    {
      "cell_type": "markdown",
      "metadata": {
        "id": "aFGPxgLYOM_4",
        "colab_type": "text"
      },
      "source": [
        "## Problem 7\n",
        "\n",
        "Apply our model to the test set. What is the coefficient of determination of our model on the held-out test set?  This gives us a better idea of how well our model would perform on new, previously unseen data."
      ]
    },
    {
      "cell_type": "code",
      "metadata": {
        "id": "nGzclNznOM_4",
        "colab_type": "code",
        "outputId": "78282c99-fcda-468e-885b-f702d3234494",
        "colab": {
          "base_uri": "https://localhost:8080/",
          "height": 68
        }
      },
      "source": [
        "\n",
        "# Let's examine this model that uses the Test data instead.\n",
        "\n",
        "# coefficient of determination, or R^2. This measures the proportion of\n",
        "# the variation in the data that was explained by our linear model.\n",
        "\n",
        "print('Test set R^2 =', lm.score(X_test, y_test))\n",
        "\n",
        "# The coefficients found by this model are\n",
        "print('the coefficients =', lm.coef_)\n",
        "print('the intercept =', lm.intercept_)\n",
        "\n"
      ],
      "execution_count": 0,
      "outputs": [
        {
          "output_type": "stream",
          "text": [
            "('Test set R^2 =', 0.86223642429136)\n",
            "('the coefficients =', array([-1.36163897,  2.34525421, -1.4924088 ]))\n",
            "('the intercept =', 3.743046281451959)\n"
          ],
          "name": "stdout"
        }
      ]
    },
    {
      "cell_type": "markdown",
      "metadata": {
        "id": "5SufMFaeOM_6",
        "colab_type": "text"
      },
      "source": [
        "\n",
        "**Where R3 is the new model and R2 is the last model that used only H and W**\n",
        "For the **_Test set_** it was a gain of:\n",
        "\n",
        "$R_3 -R_2 = 0.86223642429136 - 0.816823952075908 $\n",
        "$=0.045412472215452$\n",
        "\n",
        "Now the model accounts for about 86.22........% of the training data so it had increased in accuracy in explaining the variability in the Test set."
      ]
    },
    {
      "cell_type": "markdown",
      "metadata": {
        "id": "0WxGf_mcOM_-",
        "colab_type": "text"
      },
      "source": [
        "### Gradient Descent\n",
        "\n",
        "Sometimes with very large datasets, linear regression can't be directly calculated. In such situations and many others, gradient descent is another way to compute the best fit coefficients. For this we'll go back to our model using only the H and W columns to predict the Index value."
      ]
    },
    {
      "cell_type": "markdown",
      "metadata": {
        "id": "cpEBYxlCONAB",
        "colab_type": "text"
      },
      "source": [
        "Let $X$ be the Height and Weight columns of the dataframe, and let $y$ be the resulting Index. We'll use the loss function \n",
        "\n",
        "$$ L(c,b) = \\frac{1}{2n}\\sum_{i=1}^n \\left( y_i-(c^Tx_i + b) \\right)^2$$\n",
        "\n",
        "and use gradient descent to find the minimum of this function, which thus finds the regression coefficients $c$ and the intercept $b$. \n",
        "\n",
        "Here $~~~c^T=[h,w]=[\\text{height_coefficient}, \\text{weight_coefficient]}~~~$ and \n",
        "$~~~x_i = \n",
        "\\begin{bmatrix}\n",
        "h_i \\\\\n",
        "w_i\n",
        "\\end{bmatrix},$\n",
        "\n",
        "so the above loss function can also be written:\n",
        "\n",
        "$$ L(h,w,b) = \\frac{1}{2n}\\sum_{i=1}^n \\left( y_i-(h h_i +w w_i+ b) \\right)^2$$\n",
        "\n",
        "$$  \\quad\\quad= \\frac{1}{2n}\\sum_{i=1}^n \\left( y_i- h h_i - w w_i - b \\right)^2$$\n",
        "\n",
        "The gradient of a function like $L$, written $\\nabla L$, has the property that it always points in the direction where $L$ is increasing most rapidly. But we seek the minimum, so we should go in the exact opposite direction, the direction where $L$ is decreasing most rapidly, the direction of the negative gradient, $-\\nabla L$.\n",
        "\n",
        "The $h$ component of $\\nabla L$ is the partial derivative of $L$ with respect to $h$, i.e., $\\frac{\\partial L}{\\partial h}$, and similarly for the other two components:"
      ]
    },
    {
      "cell_type": "markdown",
      "metadata": {
        "id": "3lIWxuHKONAB",
        "colab_type": "text"
      },
      "source": [
        "$$\\frac{\\partial L}{\\partial h}=-\\frac{1}{n}\\sum_{i=1}^n (y_i - hh_i-ww_i-b)\\cdot h_i$$\n",
        "\n",
        "$$\\frac{\\partial L}{\\partial w}=-\\frac{1}{n}\\sum_{i=1}^n (y_i - hh_i-ww_i-b)\\cdot w_i$$\n",
        "\n",
        "$$\\frac{\\partial L}{\\partial b}=-\\frac{1}{n}\\sum_{i=1}^n (y_i - hh_i-ww_i-b)\\quad~~$$"
      ]
    },
    {
      "cell_type": "markdown",
      "metadata": {
        "id": "YxHWPGa8ONAB",
        "colab_type": "text"
      },
      "source": [
        "Thus the gradient of $~L~$ can be expressed as:\n",
        "\n",
        "$$\\nabla L(h,w,b)=\n",
        "-\\frac{1}{n}\n",
        "\\begin{bmatrix}\n",
        "\\sum_{i=1}^n (y_i - hh_i-ww_i-b)\\cdot h_i  \\\\\n",
        "\\sum_{i=1}^n (y_i - hh_i-ww_i-b)\\cdot w_i  \\\\\n",
        "\\sum_{i=1}^n (y_i - hh_i-ww_i-b)\n",
        "\\end{bmatrix}$$"
      ]
    },
    {
      "cell_type": "markdown",
      "metadata": {
        "id": "z8j6Jh1FONAC",
        "colab_type": "text"
      },
      "source": [
        "## Problem 8\n",
        "\n",
        "Write a Python function that takes as input $~~y, H, W, h, w, b~~$ and outputs the gradient of $~L~$ at the point $~(h,w,b),~$ given the data $~H, W~$."
      ]
    },
    {
      "cell_type": "code",
      "metadata": {
        "id": "YlzAelZvONAD",
        "colab_type": "code",
        "colab": {}
      },
      "source": [
        "def delL(y, H, W, h, w, b):\n",
        "    #  YOUR CODE HERE\n",
        "    # Code the computation for the partial derivatives with respect to each component and return them as a list.\n",
        "    # Will returnsss the negative gradient of L which is a matrix of 3 summations\n",
        "    partialH=0\n",
        "    partialW=0\n",
        "    partialB=0\n",
        "    NegDivN= (-1.0/500.0)\n",
        "    # in loop sum up all the elements in the data set 3 times one for each partial\n",
        "    #then apply the scalar for negative  1 divided by n outisde of the loop\n",
        "    \n",
        "    for i in range(1,500):\n",
        "      partialH += ((y[i]-(h*H[i])-(w*W[i])-b)*H[i]) \n",
        "      partialW += ((y[i]-(h*H[i])-(w*W[i])-b)*W[i]) \n",
        "      partialB += ((y[i]-(h*H[i])-(w*W[i])-b))\n",
        "    \n",
        "    partialH= partialH*(NegDivN)\n",
        "    partialW= partialW*(NegDivN)\n",
        "    PartialB= partialB*(NegDivN)\n",
        "   \n",
        "    return partialH, partialW, partialB\n",
        "    \n",
        "    \n",
        "   \n",
        "    \n",
        "    "
      ],
      "execution_count": 0,
      "outputs": []
    },
    {
      "cell_type": "markdown",
      "metadata": {
        "id": "z2PqQzaZONAI",
        "colab_type": "text"
      },
      "source": [
        "## Problem 9\n",
        "\n",
        "Implement gradient descent using your newly forged gradient function. "
      ]
    },
    {
      "cell_type": "code",
      "metadata": {
        "id": "bQDxnDssONAJ",
        "colab_type": "code",
        "outputId": "216f3b2a-5e4d-4e6f-e956-151cc4798f5d",
        "colab": {
          "base_uri": "https://localhost:8080/",
          "height": 1734
        }
      },
      "source": [
        "y = np.array(data['Index'])\n",
        "H = np.array(data['H'])\n",
        "W = np.array(data['W'])\n",
        "\n",
        "alpha = .05   # the learning rate\n",
        "num_iterates = 100\n",
        "\n",
        "# We'll start with the following initial \"guess\".\n",
        "h, w, b = .5, .5, 3\n",
        "print('(h,w,b) =', (h,w,b))\n",
        "\n",
        "\n",
        "for i in range(num_iterates):\n",
        "    #  YOUR CODE HERE\n",
        "    partialH,partialW,partialB = delL(y, H, W, h, w, b)\n",
        "    h-= alpha*partialH\n",
        "    w-= alpha*partialW\n",
        "    b-= alpha*partialB\n",
        "    \n",
        "    \n",
        "    print('(h,w,b) =', (h,w,b))"
      ],
      "execution_count": 0,
      "outputs": [
        {
          "output_type": "stream",
          "text": [
            "('(h,w,b) =', (0.5, 0.5, 3))\n",
            "('(h,w,b) =', (0.4464638418762921, 0.5294733586057032, -15.648472074202449))\n",
            "('(h,w,b) =', (0.3951360229608313, 0.5580537577566895, -499.57520429922585))\n",
            "('(h,w,b) =', (0.3343818769572378, 0.6001538346274904, -13057.472828574952))\n",
            "('(h,w,b) =', (-0.034389730896859205, 1.027952940901046, -338934.9147760768))\n",
            "('(h,w,b) =', (-8.456456297813993, 11.497767787759187, -8795454.522141304))\n",
            "('(h,w,b) =', (-225.91876392757825, 282.5893658620987, -228242138.06730762))\n",
            "('(h,w,b) =', (-5868.0297028738305, 7316.846137002394, -5922883569.185443))\n",
            "('(h,w,b) =', (-152279.82412430012, 189855.2673532811, -153698828528.21454))\n",
            "('(h,w,b) =', (-3951664.9495964022, 4926726.777420017, -3988484595583.309))\n",
            "('(h,w,b) =', (-102545707.94797911, 127848541.8260663, -103501175130470.3))\n",
            "('(h,w,b) =', (-2661061119.821922, 3317669638.0211024, -2685855491391786.0))\n",
            "('(h,w,b) =', (-69054535976.9623, 86093526983.85913, -6.9697949917434824e+16))\n",
            "('(h,w,b) =', (-1791965206437.8638, 2234127022513.5215, -1.8086617981729088e+18))\n",
            "('(h,w,b) =', (-46501497050899.21, 57975596164185.8, -4.693477360589856e+19))\n",
            "('(h,w,b) =', (-1206713847013331.5, 1504466718643437.2, -1.2179573736020026e+21))\n",
            "('(h,w,b) =', (-3.131422429217544e+16, 3.904091130164295e+16, -3.1605993806797797e+22))\n",
            "('(h,w,b) =', (-8.126041194004563e+17, 1.0131116470539571e+18, -8.201755382957841e+23))\n",
            "('(h,w,b) =', (-2.1087076872972444e+19, 2.6290247209296953e+19, -2.128355519306904e+25))\n",
            "('(h,w,b) =', (-5.4720964419273975e+20, 6.822319142572503e+20, -5.523082565930559e+26))\n",
            "('(h,w,b) =', (-1.4200090249650468e+22, 1.7703918153591677e+22, -1.433239924127894e+28))\n",
            "('(h,w,b) =', (-3.684923415333592e+23, 4.5941667553082275e+23, -3.7192575986197144e+29))\n",
            "('(h,w,b) =', (-9.562376251240105e+24, 1.1921862715625653e+25, -9.651473456760974e+30))\n",
            "('(h,w,b) =', (-2.481436634199758e+26, 3.093723370968387e+26, -2.5045573590044355e+32))\n",
            "('(h,w,b) =', (-6.439328057971239e+27, 8.028212137965624e+27, -6.499326338766539e+33))\n",
            "('(h,w,b) =', (-1.6710056290250404e+29, 2.0833210472859226e+29, -1.6865751828728477e+35))\n",
            "('(h,w,b) =', (-4.3362596020827807e+30, 5.406218111177453e+30, -4.3766625942688516e+36))\n",
            "('(h,w,b) =', (-1.1252593653815233e+32, 1.4029135981560125e+32, -1.1357439418410011e+38))\n",
            "('(h,w,b) =', (-2.920048049638189e+33, 3.640560782817727e+33, -2.947255525517665e+39))\n",
            "('(h,w,b) =', (-7.577524679658005e+34, 9.447255220001861e+34, -7.648128079480831e+40))\n",
            "('(h,w,b) =', (-1.9663676519964787e+36, 2.451562726629423e+36, -1.9846892342281408e+42))\n",
            "('(h,w,b) =', (-5.102724050767262e+37, 6.361805267919541e+37, -5.150268556601463e+43))\n",
            "('(h,w,b) =', (-1.324156889574632e+39, 1.6508884650311536e+39, -1.3364946888238439e+45))\n",
            "('(h,w,b) =', (-3.4361871242963275e+40, 4.2840555615815946e+40, -3.468203713308933e+46))\n",
            "('(h,w,b) =', (-8.916905576778792e+41, 1.1117124168876546e+42, -8.999988625166373e+47))\n",
            "('(h,w,b) =', (-2.3139369943792117e+43, 2.884893718339003e+43, -2.3354970454098305e+49))\n",
            "('(h,w,b) =', (-6.004666493161711e+44, 7.48629919004743e+44, -6.060614825518418e+50))\n",
            "('(h,w,b) =', (-1.5582109530935135e+46, 1.9426946374710167e+46, -1.5727295453224662e+52))\n",
            "('(h,w,b) =', (-4.043557418393956e+47, 5.041292578148338e+47, -4.08123316518243e+53))\n",
            "('(h,w,b) =', (-1.049303148805854e+49, 1.3082154224493963e+49, -1.0590800050856698e+55))\n",
            "('(h,w,b) =', (-2.722941667862044e+50, 3.3948190171558325e+50, -2.7483126098778642e+56))\n",
            "('(h,w,b) =', (-7.066033619568225e+51, 8.809555338878966e+51, -7.131871214019089e+57))\n",
            "('(h,w,b) =', (-1.833635722063076e+53, 2.2860796076780227e+53, -1.8507205778026306e+59))\n",
            "('(h,w,b) =', (-4.758284693006845e+54, 5.9323765747591645e+54, -4.8026198935971545e+60))\n",
            "('(h,w,b) =', (-1.2347748763439335e+56, 1.5394517192906383e+56, -1.2462798608831885e+62))\n",
            "('(h,w,b) =', (-3.204240800242228e+57, 3.994877206734007e+57, -3.2340962350856892e+63))\n",
            "('(h,w,b) =', (-8.315004866585645e+58, 1.036670633895382e+59, -8.392479719910821e+64))\n",
            "('(h,w,b) =', (-2.157743760272889e+60, 2.6901602917092975e+60, -2.177848484686422e+66))\n",
            "('(h,w,b) =', (-5.599345051145316e+61, 6.980965948554026e+61, -5.651516810935288e+67))\n",
            "('(h,w,b) =', (-1.4530300390171669e+63, 1.811560661461742e+63, -1.4665686106663669e+69))\n",
            "('(h,w,b) =', (-3.770612946695582e+64, 4.700999910815131e+64, -3.805745540082592e+70))\n",
            "('(h,w,b) =', (-9.784740584856601e+65, 1.219909475383143e+66, -9.875909664586084e+71))\n",
            "('(h,w,b) =', (-2.539140178703624e+67, 3.1656650847957675e+67, -2.562798554864702e+73))\n",
            "('(h,w,b) =', (-6.5890687557772175e+68, 8.214900885122784e+68, -6.650462241841394e+74))\n",
            "('(h,w,b) =', (-1.7098633400591616e+70, 2.131766777114671e+70, -1.7257949496734048e+76))\n",
            "('(h,w,b) =', (-4.437095362093987e+71, 5.531934779930879e+71, -4.4784378889933686e+77))\n",
            "('(h,w,b) =', (-1.1514262450726262e+73, 1.435537073658215e+73, -1.1621546307901135e+79))\n",
            "('(h,w,b) =', (-2.9879511023542675e+74, 3.7252187016436723e+74, -3.0157912632578307e+80))\n",
            "('(h,w,b) =', (-7.753733101244866e+75, 9.666942519089458e+75, -7.825978318701747e+81))\n",
            "('(h,w,b) =', (-2.0120937373429188e+77, 2.5085715806737764e+77, -2.0308413712502254e+83))\n",
            "('(h,w,b) =', (-5.221383242098469e+78, 6.509743243986095e+78, -5.270033352029117e+84))\n",
            "('(h,w,b) =', (-1.3549489496880385e+80, 1.6892783697740122e+80, -1.367573653199785e+86))\n",
            "('(h,w,b) =', (-3.516092520193474e+81, 4.383677364268943e+81, -3.5488536257670922e+87))\n",
            "('(h,w,b) =', (-9.124260078881602e+82, 1.1375642746538206e+83, -9.209275147742512e+88))\n",
            "('(h,w,b) =', (-2.367745487610057e+84, 2.951979289161248e+84, -2.3898068979527407e+90))\n",
            "('(h,w,b) =', (-6.144299532927018e+85, 7.660386246121453e+85, -6.201548892697043e+91))\n",
            "('(h,w,b) =', (-1.5944457268686725e+87, 1.9878702284674169e+87, -1.609301935711148e+93))\n",
            "('(h,w,b) =', (-4.137586656226962e+88, 5.1585232366425864e+88, -4.176138518126436e+94))\n",
            "('(h,w,b) =', (-1.0737037359940274e+90, 1.338636778291926e+90, -1.083707944144894e+96))\n",
            "('(h,w,b) =', (-2.7862611915391573e+91, 3.473762435471989e+91, -2.8122221116593596e+97))\n",
            "('(h,w,b) =', (-7.230347783311574e+92, 9.014413509162072e+92, -7.297716370941761e+98))\n",
            "('(h,w,b) =', (-1.8762752475031005e+94, 2.339240302802153e+94, -1.8937573959720836e+100))\n",
            "('(h,w,b) =', (-4.8689342613899896e+95, 6.070328578439594e+95, -4.914300436611997e+101))\n",
            "('(h,w,b) =', (-1.2634884393045203e+97, 1.5752502642024628e+97, -1.275260961760537e+103))\n",
            "('(h,w,b) =', (-3.278752496035402e+98, 4.087774430668301e+98, -3.3093021917715734e+104))\n",
            "('(h,w,b) =', (-8.508362716936313e+99, 1.0607774634771762e+100, -8.587639177274958e+105))\n",
            "('(h,w,b) =', (-2.2079201223779872e+101, 2.7527175143984116e+101, -2.22849236381125e+107))\n",
            "('(h,w,b) =', (-5.729552710650158e+102, 7.143301941236229e+102, -5.782937677105486e+108))\n",
            "('(h,w,b) =', (-1.4868189266180215e+104, 1.853686851511937e+104, -1.5006723253963427e+110))\n",
            "('(h,w,b) =', (-3.858295109913114e+105, 4.810317373863582e+105, -3.894244679699993e+111))\n",
            "('(h,w,b) =', (-1.0012275798134113e+107, 1.2482773570098644e+107, -1.0105564931615838e+113))\n",
            "('(h,w,b) =', (-2.598185566477374e+108, 3.2392797375281654e+108, -2.622394096586946e+114))\n",
            "('(h,w,b) =', (-6.742291536865755e+109, 8.40593090873253e+109, -6.805112672423815e+115))\n",
            "('(h,w,b) =', (-1.7496246517032871e+111, 2.1813390681815774e+111, -1.7659267363610695e+117))\n",
            "('(h,w,b) =', (-4.5402759656860835e+112, 5.660574875094017e+112, -4.582579875322074e+118))\n",
            "('(h,w,b) =', (-1.1782016116725706e+114, 1.4689191783127542e+114, -1.189179476209771e+120))\n",
            "('(h,w,b) =', (-3.0574331785977275e+115, 3.8118452631175696e+115, -3.08592073703714e+121))\n",
            "('(h,w,b) =', (-7.934039088878104e+116, 9.891738445842785e+116, -8.007964302939256e+122))\n",
            "('(h,w,b) =', (-2.0588831410770292e+118, 2.5669061235957373e+118, -2.0780667341028196e+124))\n",
            "('(h,w,b) =', (-5.3428017446417195e+119, 6.661121382685988e+119, -5.3925831684835795e+125))\n",
            "('(h,w,b) =', (-1.3864570510599255e+121, 1.728560996719199e+121, -1.3993753305313063e+127))\n",
            "('(h,w,b) =', (-3.597856043154783e+122, 4.485615781068515e+122, -3.6313789783427096e+128))\n",
            "('(h,w,b) =', (-9.336436420710659e+123, 1.164017293781349e+124, -9.42342843741759e+129))\n",
            "('(h,w,b) =', (-2.4228052482478804e+125, 3.0206248737143758e+125, -2.4453796765563008e+131))\n",
            "('(h,w,b) =', (-6.287179611609887e+126, 7.838521537820974e+126, -6.345760252999105e+132))\n",
            "('(h,w,b) =', (-1.6315231072420141e+128, 2.034096336607764e+128, -1.646724783664332e+134))\n",
            "('(h,w,b) =', (-4.2338024581799574e+129, 5.278479987121684e+129, -4.273250808447659e+135))\n",
            "('(h,w,b) =', (-1.098671736570688e+131, 1.369765555003684e+131, -1.1089085834528127e+137))\n",
            "('(h,w,b) =', (-2.851053152957465e+132, 3.554541610941352e+132, -2.8776177705844242e+138))\n",
            "('(h,w,b) =', (-7.39848292298844e+133, 9.224035469252133e+133, -7.467418105647338e+139))\n",
            "('(h,w,b) =', (-1.9199063161966744e+135, 2.3936372013797434e+135, -1.937794996074989e+141))\n"
          ],
          "name": "stdout"
        }
      ]
    }
  ]
}
